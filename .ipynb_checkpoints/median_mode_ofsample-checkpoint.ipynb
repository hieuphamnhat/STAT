{
 "cells": [
  {
   "cell_type": "code",
   "execution_count": 3,
   "metadata": {},
   "outputs": [],
   "source": [
    "import numpy as np"
   ]
  },
  {
   "cell_type": "code",
   "execution_count": 11,
   "metadata": {},
   "outputs": [
    {
     "name": "stdout",
     "output_type": "stream",
     "text": [
      "2\n"
     ]
    }
   ],
   "source": [
    "x = np.array([1,3,2,4])\n",
    "np.sort(x)\n",
    "print(x[int((len(x)-1)/2 +1)])"
   ]
  },
  {
   "cell_type": "code",
   "execution_count": 54,
   "metadata": {},
   "outputs": [],
   "source": [
    "def calculateMedian(x):\n",
    "    n = len(x)\n",
    "    x_sorted = np.sort(x)\n",
    "    if n % 2 == 1:\n",
    "        return x_sorted[int((n-1) /2)], x_sorted[int((n-1) /2)]\n",
    "    else: \n",
    "         return (x_sorted[int((n-1) / 2)] + x_sorted[int((n-1) / 2 + 1)])/2, x_sorted[int((n-1) /2)]"
   ]
  },
  {
   "cell_type": "code",
   "execution_count": 53,
   "metadata": {},
   "outputs": [
    {
     "name": "stdout",
     "output_type": "stream",
     "text": [
      "(4, 3)\n",
      "(5.5, 5)\n"
     ]
    }
   ],
   "source": [
    "print(calculateMedian(np.array([7, 3, 2, 4, 3])))\n",
    "print(calculateMedian(np.array([8, 7, 5, 6, 4,3])))"
   ]
  },
  {
   "cell_type": "code",
   "execution_count": 43,
   "metadata": {},
   "outputs": [],
   "source": [
    "def calculateQuantile(x, p):\n",
    "    x = np.sort(x)\n",
    "    p = p / 100\n",
    "    ith_obs = p * (len(x) + 1)\n",
    "    if ith_obs > int(ith_obs) + 0.5:\n",
    "        ith_obs = int(ith_obs) + 1\n",
    "    else:\n",
    "        ith_obs = int(lth_obs)\n",
    "    x_ith = x[ith_obs]\n",
    "    low = []\n",
    "    high = []\n",
    "    for ele in x:\n",
    "        if ele < x_ith:\n",
    "            low.append(ele)\n",
    "        elif ele > x_ith:\n",
    "            high.append(ele)\n",
    "    return x_ith, low, high, ith_obs, x, len(low)/len(x), len(high)/len(x)"
   ]
  },
  {
   "cell_type": "code",
   "execution_count": 44,
   "metadata": {},
   "outputs": [
    {
     "data": {
      "text/plain": [
       "(2,\n",
       " [0, 1],\n",
       " [3, 4, 6, 10],\n",
       " 2,\n",
       " array([ 0,  1,  2,  3,  4,  6, 10]),\n",
       " 0.2857142857142857,\n",
       " 0.5714285714285714)"
      ]
     },
     "execution_count": 44,
     "metadata": {},
     "output_type": "execute_result"
    }
   ],
   "source": [
    "x = np.array([3,4,6,1,2,10,0])\n",
    "calculateQuantile(x, 20)"
   ]
  },
  {
   "cell_type": "code",
   "execution_count": 4,
   "metadata": {},
   "outputs": [],
   "source": [
    "def calculateMode(x):\n",
    "    index = 0\n",
    "    x = np.sort(x)\n",
    "    frq = []\n",
    "    while index < len(x):\n",
    "        x_tmp = x[index]\n",
    "        count = 0\n",
    "        for ele in x:\n",
    "            if ele == x_tmp:\n",
    "                count = count + 1\n",
    "        frq.append(count)\n",
    "        count = 0\n",
    "        index = index + 1\n",
    "    f_max = np.argmax(frq)\n",
    "    return x, frq, f_max, x[f_max]"
   ]
  },
  {
   "cell_type": "code",
   "execution_count": null,
   "metadata": {},
   "outputs": [],
   "source": [
    "calculateMode(np.array([1,2,3,3]))"
   ]
  },
  {
   "cell_type": "code",
   "execution_count": null,
   "metadata": {},
   "outputs": [],
   "source": []
  }
 ],
 "metadata": {
  "kernelspec": {
   "display_name": "Python 3",
   "language": "python",
   "name": "python3"
  },
  "language_info": {
   "codemirror_mode": {
    "name": "ipython",
    "version": 3
   },
   "file_extension": ".py",
   "mimetype": "text/x-python",
   "name": "python",
   "nbconvert_exporter": "python",
   "pygments_lexer": "ipython3",
   "version": "3.7.4"
  }
 },
 "nbformat": 4,
 "nbformat_minor": 2
}
